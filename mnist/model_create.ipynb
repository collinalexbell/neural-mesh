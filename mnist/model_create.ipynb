{
 "cells": [
  {
   "cell_type": "code",
   "execution_count": 2,
   "metadata": {},
   "outputs": [],
   "source": [
    "import numpy as np\n",
    "from tensorflow import keras\n",
    "from tensorflow.keras import layers\n",
    "import tensorflow as tf\n",
    "\n",
    "config = tf.ConfigProto()\n",
    "config.gpu_options.allow_growth = True\n",
    "sess = tf.Session(config=config)\n",
    "keras.backend.set_session(sess)\n"
   ]
  },
  {
   "cell_type": "code",
   "execution_count": 3,
   "metadata": {},
   "outputs": [
    {
     "name": "stdout",
     "output_type": "stream",
     "text": [
      "x_train shape: (60000, 28, 28, 1)\n",
      "60000 train samples\n",
      "10000 test samples\n",
      "Model: \"sequential_1\"\n",
      "_________________________________________________________________\n",
      "Layer (type)                 Output Shape              Param #   \n",
      "=================================================================\n",
      "conv2d_2 (Conv2D)            (None, 26, 26, 32)        320       \n",
      "_________________________________________________________________\n",
      "max_pooling2d_2 (MaxPooling2 (None, 13, 13, 32)        0         \n",
      "_________________________________________________________________\n",
      "conv2d_3 (Conv2D)            (None, 11, 11, 64)        18496     \n",
      "_________________________________________________________________\n",
      "max_pooling2d_3 (MaxPooling2 (None, 5, 5, 64)          0         \n",
      "_________________________________________________________________\n",
      "flatten_1 (Flatten)          (None, 1600)              0         \n",
      "_________________________________________________________________\n",
      "dropout_1 (Dropout)          (None, 1600)              0         \n",
      "_________________________________________________________________\n",
      "dense_1 (Dense)              (None, 10)                16010     \n",
      "=================================================================\n",
      "Total params: 34,826\n",
      "Trainable params: 34,826\n",
      "Non-trainable params: 0\n",
      "_________________________________________________________________\n"
     ]
    }
   ],
   "source": [
    "#Model / data parameters\n",
    "num_classes = 10\n",
    "input_shape = (28, 28, 1)\n",
    "\n",
    "# the data, split between train and test sets\n",
    "(x_train, y_train), (x_test, y_test) = keras.datasets.mnist.load_data()\n",
    "\n",
    "# Scale images to the [0, 1] range\n",
    "x_train = x_train.astype(\"float32\") / 255\n",
    "x_test = x_test.astype(\"float32\") / 255\n",
    "# Make sure images have shape (28, 28, 1)\n",
    "x_train = np.expand_dims(x_train, -1)\n",
    "x_test = np.expand_dims(x_test, -1)\n",
    "print(\"x_train shape:\", x_train.shape)\n",
    "print(x_train.shape[0], \"train samples\")\n",
    "print(x_test.shape[0], \"test samples\")\n",
    "\n",
    "\n",
    "# convert class vectors to binary class matrices\n",
    "y_train = keras.utils.to_categorical(y_train, num_classes)\n",
    "y_test = keras.utils.to_categorical(y_test, num_classes)\n",
    "\n",
    "model = keras.Sequential(\n",
    "    [\n",
    "        keras.Input(shape=input_shape),\n",
    "        layers.Conv2D(32, kernel_size=(3, 3), activation=\"relu\"),\n",
    "        layers.MaxPooling2D(pool_size=(2, 2)),\n",
    "        layers.Conv2D(64, kernel_size=(3, 3), activation=\"relu\"),\n",
    "        layers.MaxPooling2D(pool_size=(2, 2)),\n",
    "        layers.Flatten(),\n",
    "        layers.Dropout(0.5),\n",
    "        layers.Dense(num_classes, activation=\"softmax\"),\n",
    "    ]\n",
    ")\n",
    "\n",
    "model.summary()\n"
   ]
  },
  {
   "cell_type": "code",
   "execution_count": 4,
   "metadata": {},
   "outputs": [
    {
     "name": "stdout",
     "output_type": "stream",
     "text": [
      "Train on 54000 samples, validate on 6000 samples\n",
      "Epoch 1/15\n",
      "54000/54000 [==============================] - 2s 33us/sample - loss: 0.3575 - acc: 0.8919 - val_loss: 0.0790 - val_acc: 0.9777\n",
      "Epoch 2/15\n",
      "54000/54000 [==============================] - 2s 30us/sample - loss: 0.1102 - acc: 0.9668 - val_loss: 0.0585 - val_acc: 0.9845\n",
      "Epoch 3/15\n",
      "54000/54000 [==============================] - 2s 31us/sample - loss: 0.0831 - acc: 0.9742 - val_loss: 0.0482 - val_acc: 0.9872\n",
      "Epoch 4/15\n",
      "54000/54000 [==============================] - 2s 30us/sample - loss: 0.0703 - acc: 0.9791 - val_loss: 0.0427 - val_acc: 0.9885\n",
      "Epoch 5/15\n",
      "54000/54000 [==============================] - 2s 30us/sample - loss: 0.0606 - acc: 0.9812 - val_loss: 0.0407 - val_acc: 0.9882\n",
      "Epoch 6/15\n",
      "54000/54000 [==============================] - 2s 31us/sample - loss: 0.0544 - acc: 0.9836 - val_loss: 0.0358 - val_acc: 0.9890\n",
      "Epoch 7/15\n",
      "54000/54000 [==============================] - 2s 30us/sample - loss: 0.0497 - acc: 0.9845 - val_loss: 0.0333 - val_acc: 0.9905\n",
      "Epoch 8/15\n",
      "54000/54000 [==============================] - 2s 30us/sample - loss: 0.0460 - acc: 0.9855 - val_loss: 0.0323 - val_acc: 0.9908\n",
      "Epoch 9/15\n",
      "54000/54000 [==============================] - 2s 30us/sample - loss: 0.0448 - acc: 0.9858 - val_loss: 0.0314 - val_acc: 0.9915\n",
      "Epoch 10/15\n",
      "54000/54000 [==============================] - 2s 30us/sample - loss: 0.0415 - acc: 0.9865 - val_loss: 0.0291 - val_acc: 0.9910\n",
      "Epoch 11/15\n",
      "54000/54000 [==============================] - 2s 30us/sample - loss: 0.0395 - acc: 0.9869 - val_loss: 0.0314 - val_acc: 0.9900\n",
      "Epoch 12/15\n",
      "54000/54000 [==============================] - 2s 31us/sample - loss: 0.0377 - acc: 0.9881 - val_loss: 0.0282 - val_acc: 0.9922\n",
      "Epoch 13/15\n",
      "54000/54000 [==============================] - 2s 31us/sample - loss: 0.0362 - acc: 0.9885 - val_loss: 0.0277 - val_acc: 0.9923\n",
      "Epoch 14/15\n",
      "54000/54000 [==============================] - 2s 30us/sample - loss: 0.0355 - acc: 0.9881 - val_loss: 0.0265 - val_acc: 0.9918\n",
      "Epoch 15/15\n",
      "54000/54000 [==============================] - 2s 30us/sample - loss: 0.0333 - acc: 0.9894 - val_loss: 0.0268 - val_acc: 0.9922\n"
     ]
    },
    {
     "data": {
      "text/plain": [
       "<tensorflow.python.keras.callbacks.History at 0x7fd7b4549f90>"
      ]
     },
     "execution_count": 4,
     "metadata": {},
     "output_type": "execute_result"
    }
   ],
   "source": [
    "batch_size = 128\n",
    "epochs = 15\n",
    "\n",
    "model.compile(loss=\"categorical_crossentropy\", optimizer=\"adam\", metrics=[\"accuracy\"])\n",
    "\n",
    "model.fit(x_train, y_train, batch_size=batch_size, epochs=epochs, validation_split=0.1)"
   ]
  },
  {
   "cell_type": "code",
   "execution_count": 5,
   "metadata": {},
   "outputs": [],
   "source": [
    "model.save(\"mnist.model\")"
   ]
  },
  {
   "cell_type": "code",
   "execution_count": null,
   "metadata": {},
   "outputs": [],
   "source": [
    "q"
   ]
  }
 ],
 "metadata": {
  "kernelspec": {
   "display_name": "Python 3",
   "language": "python",
   "name": "python3"
  },
  "language_info": {
   "codemirror_mode": {
    "name": "ipython",
    "version": 3
   },
   "file_extension": ".py",
   "mimetype": "text/x-python",
   "name": "python",
   "nbconvert_exporter": "python",
   "pygments_lexer": "ipython3",
   "version": "3.7.9"
  }
 },
 "nbformat": 4,
 "nbformat_minor": 4
}
